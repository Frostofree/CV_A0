{
 "cells": [
  {
   "cell_type": "code",
   "execution_count": 5,
   "metadata": {},
   "outputs": [],
   "source": [
    "import cv2\n",
    "import matplotlib.pyplot as plt\n",
    "import numpy as np\n",
    "import os"
   ]
  },
  {
   "cell_type": "markdown",
   "metadata": {},
   "source": [
    "## Converting Video into images"
   ]
  },
  {
   "cell_type": "code",
   "execution_count": 6,
   "metadata": {},
   "outputs": [],
   "source": [
    "video = \"./GeoVision VD8700 Face Recognition IP Camera Demo Video.mp4\"\n",
    "\n",
    "cap = cv2.VideoCapture(video)\n",
    "\n",
    "if not cap.isOpened():\n",
    "    print(\"Error opening video stream or file\")\n",
    "\n",
    "\n",
    "def get_frame(sec):\n",
    "    \"\"\"\n",
    "    Gets a frame from the video at a given second\n",
    "    :param sec: second to get frame from\n",
    "    :return: frame at given second\n",
    "    \"\"\"\n",
    "    cap.set(cv2.CAP_PROP_POS_MSEC, sec * 1000)      # just cue to 20 sec. position\n",
    "    hasFrames, image = cap.read()       \n",
    "    if hasFrames:\n",
    "        cv2.imwrite(\"images/\" + str(sec) + \".jpg\", image)                   # Common images folder for all images\n",
    "    return hasFrames\n",
    "\n",
    "\n",
    "\n",
    "sec = 0\n",
    "frameRate = 0.5  # //it will capture image in each 0.5 second\n",
    "count = 1\n",
    "\n",
    "success = get_frame(sec)\n",
    "\n",
    "while success:  # Breaks when there are no more frames , compact way of writing while True\n",
    "    count = count + 1\n",
    "    sec = sec + frameRate\n",
    "    sec = round(sec, 2)\n",
    "    success = get_frame(sec)\n",
    "\n",
    "cap.release()\n"
   ]
  },
  {
   "cell_type": "code",
   "execution_count": 7,
   "metadata": {},
   "outputs": [],
   "source": [
    "# Read images from images folder\n",
    "images = []\n",
    "\n",
    "for filename in os.listdir(\"images\"):\n",
    "    img = cv2.imread(os.path.join(\"images\", filename))\n",
    "    if img is not None:\n",
    "        images.append(img)\n",
    "        print(filename + \" read\")\n"
   ]
  },
  {
   "cell_type": "code",
   "execution_count": null,
   "metadata": {},
   "outputs": [],
   "source": [
    "# Display images\n",
    "cv2.imshow(\"Image\", images[0])\n",
    "cv2.waitKey(0)\n",
    "cv2.destroyAllWindows()"
   ]
  },
  {
   "cell_type": "code",
   "execution_count": null,
   "metadata": {},
   "outputs": [],
   "source": [
    "## Using matplotlib\n",
    "\n",
    "for i in range(len(images)):\n",
    "    images[i] = cv2.cvtColor(images[i], cv2.COLOR_BGR2RGB)      # Convert to RGB for matplotlib\n",
    "\n",
    "plt.imshow(images[0])\n",
    "plt.show()\n"
   ]
  }
 ],
 "metadata": {
  "kernelspec": {
   "display_name": "DIP",
   "language": "python",
   "name": "python3"
  },
  "language_info": {
   "codemirror_mode": {
    "name": "ipython",
    "version": 3
   },
   "file_extension": ".py",
   "mimetype": "text/x-python",
   "name": "python",
   "nbconvert_exporter": "python",
   "pygments_lexer": "ipython3",
   "version": "3.9.18"
  }
 },
 "nbformat": 4,
 "nbformat_minor": 2
}
